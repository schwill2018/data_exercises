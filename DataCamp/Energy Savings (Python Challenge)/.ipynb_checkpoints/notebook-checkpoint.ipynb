{
 "cells": [
  {
   "cell_type": "markdown",
   "metadata": {
    "dc": {
     "key": "4"
    },
    "deletable": false,
    "editable": false,
    "run_control": {
     "frozen": true
    },
    "tags": [
     "context"
    ]
   },
   "source": [
    "## Energy saved from recycling\n",
    "<p>Did you know that recycling saves energy by reducing or eliminating the need to make materials from scratch? For example, aluminum can manufacturers can skip the energy-costly process of producing aluminum from ore by cleaning and melting recycled cans. Aluminum is classified as a non-ferrous metal.</p>\n",
    "<p>Singapore has an ambitious goal of becoming a zero-waste nation. The amount of waste disposed of in Singapore has increased seven-fold over the last 40 years. At this rate, Semakau Landfill, Singapore’s only landfill, will run out of space by 2035. Making matters worse, Singapore has limited land for building new incineration plants or landfills.</p>\n",
    "<p>The government would like to motivate citizens by sharing the total energy that the combined recycling efforts have saved every year. They have asked you to help them.</p>\n",
    "<p>You have been provided with three datasets. The data come from different teams, so the names of waste types may differ.</p>\n",
    "<div style=\"background-color: #efebe4; color: #05192d; text-align:left; vertical-align: middle; padding: 15px 25px 15px 25px; line-height: 1.6;\">\n",
    "    <div style=\"font-size:16px\"><b>datasets/wastestats.csv - Recycling statistics per waste type for the period 2003 to 2017</b>\n",
    "    </div>\n",
    "    <div>Source: <a href=\"https://www.nea.gov.sg/our-services/waste-management/waste-statistics-and-overall-recycling\">Singapore National Environment Agency</a></div>\n",
    "<ul>\n",
    "    <li><b>waste_type: </b>The type of waste recycled.</li>\n",
    "    <li><b>waste_disposed_of_tonne: </b>The amount of waste that could not be recycled (in metric tonnes).</li>\n",
    "    <li><b>total_waste_recycle_tonne: </b>The amount of waste that could be recycled (in metric tonnes).</li>\n",
    "    <li><b>total_waste_generated: </b>The total amount of waste collected before recycling (in metric tonnes).</li>\n",
    "    <li><b>recycling_rate: </b>The amount of waste recycled per tonne of waste generated.</li>\n",
    "    <li><b>year: </b>The recycling year.</li>\n",
    "</ul>\n",
    "    </div>\n",
    "<div style=\"background-color: #efebe4; color: #05192d; text-align:left; vertical-align: middle; padding: 15px 25px 15px 25px; line-height: 1.6; margin-top: 17px;\">\n",
    "    <div style=\"font-size:16px\"><b>datasets/2018_2019_waste.csv - Recycling statistics per waste type for the period 2018 to 2019</b>\n",
    "    </div>\n",
    "    <div> Source: <a href=\"https://www.nea.gov.sg/our-services/waste-management/waste-statistics-and-overall-recycling\">Singapore National Environment Agency</a></div>\n",
    "<ul>\n",
    "    <li><b>Waste Type: </b>The type of waste recycled.</li>\n",
    "    <li><b>Total Generated: </b>The total amount of waste collected before recycling (in thousands of metric tonnes).</li> \n",
    "    <li><b>Total Recycled: </b>The amount of waste that could be recycled. (in thousands of metric tonnes).</li>\n",
    "    <li><b>Year: </b>The recycling year.</li>\n",
    "</ul>\n",
    "    </div>\n",
    "<div style=\"background-color: #efebe4; color: #05192d; text-align:left; vertical-align: middle; padding: 15px 25px 15px 25px; line-height: 1.6; margin-top: 17px;\">\n",
    "    <div style=\"font-size:16px\"><b>datasets/energy_saved.csv -  Estimations of the amount of energy saved per waste type in kWh</b>\n",
    "    </div>\n",
    "<ul>\n",
    "    <li><b>material: </b>The type of waste recycled.</li>\n",
    "    <li><b>energy_saved: </b>An estimate of the energy saved (in kiloWatt hour) by recycling a metric tonne of waste.</li> \n",
    "    <li><b>crude_oil_saved: </b>An estimate of the number of barrels of oil saved by recycling a metric tonne of waste.</li>\n",
    "</ul>\n",
    "\n",
    "</div>\n",
    "<pre><code>\n",
    "</code></pre>"
   ]
  },
  {
   "cell_type": "code",
   "execution_count": 1,
   "metadata": {
    "dc": {
     "key": "4"
    },
    "tags": [
     "sample_code"
    ]
   },
   "outputs": [],
   "source": [
    "#Import Necessary Libraries\n",
    "import os\n",
    "from pathlib import Path\n",
    "import re\n",
    "import pandas as pd\n",
    "import numpy as np\n",
    "from itertools import combinations\n"
   ]
  },
  {
   "cell_type": "code",
   "execution_count": 2,
   "metadata": {
    "dc": {
     "key": "4"
    }
   },
   "outputs": [
    {
     "data": {
      "text/plain": [
       "[<DirEntry '.ipynb_checkpoints'>,\n",
       " <DirEntry 'datasets'>,\n",
       " <DirEntry 'notebook.ipynb'>]"
      ]
     },
     "execution_count": 2,
     "metadata": {},
     "output_type": "execute_result"
    }
   ],
   "source": [
    "#Find data\n",
    "find_data = [*os.scandir()]\n",
    "find_data\n"
   ]
  },
  {
   "cell_type": "code",
   "execution_count": 3,
   "metadata": {
    "dc": {
     "key": "4"
    }
   },
   "outputs": [
    {
     "name": "stdout",
     "output_type": "stream",
     "text": [
      "[<DirEntry '2018_2019_waste.csv'>, <DirEntry 'energy_saved.csv'>, <DirEntry 'wastestats.csv'>]\n",
      "<class 'list'>\n"
     ]
    }
   ],
   "source": [
    "datas = [*os.scandir('datasets')]\n",
    "print(datas)\n",
    "print(type(datas))"
   ]
  },
  {
   "cell_type": "code",
   "execution_count": 4,
   "metadata": {
    "dc": {
     "key": "4"
    },
    "tags": []
   },
   "outputs": [],
   "source": [
    "#Import Data\n",
    "waste_stats_older = pd.read_csv('datasets/wastestats.csv')\n",
    "waste_stats_newer = pd.read_csv('datasets/2018_2019_waste.csv')\n",
    "energy_stats = pd.read_csv('datasets/energy_saved.csv')\n",
    "tuple_df = (waste_stats_older, waste_stats_newer, energy_stats)"
   ]
  },
  {
   "cell_type": "code",
   "execution_count": 5,
   "metadata": {
    "dc": {
     "key": "4"
    },
    "scrolled": true
   },
   "outputs": [
    {
     "name": "stdout",
     "output_type": "stream",
     "text": [
      "            waste_type  waste_disposed_of_tonne  total_waste_recycled_tonne  \\\n",
      "0                 Food                   679900                    111100.0   \n",
      "1      Paper/Cardboard                   576000                    607100.0   \n",
      "2             Plastics                   762700                     59500.0   \n",
      "3                  C&D                     9700                   1585700.0   \n",
      "4  Horticultural waste                   111500                    209000.0   \n",
      "\n",
      "   total_waste_generated_tonne  recycling_rate  year  \n",
      "0                       791000            0.14  2016  \n",
      "1                      1183100            0.51  2016  \n",
      "2                       822200            0.07  2016  \n",
      "3                      1595400            0.99  2016  \n",
      "4                       320500            0.65  2016  \n",
      "(225, 6)\n",
      "[]\n",
      "Index(['waste_type', 'waste_disposed_of_tonne', 'total_waste_recycled_tonne',\n",
      "       'total_waste_generated_tonne', 'recycling_rate', 'year'],\n",
      "      dtype='object')\n",
      "                 Waste Type  Total Generated ('000 tonnes)  \\\n",
      "0  Construction& Demolition                           1440   \n",
      "1             Ferrous Metal                           1278   \n",
      "2           Paper/Cardboard                           1011   \n",
      "3                  Plastics                            930   \n",
      "4                      Food                           7440   \n",
      "\n",
      "   Total Recycled ('000 tonnes)  Year  \n",
      "0                          1434  2019  \n",
      "1                          1270  2019  \n",
      "2                           449  2019  \n",
      "3                            37  2019  \n",
      "4                           136  2019  \n",
      "(30, 4)\n",
      "[]\n",
      "Index(['Waste Type', 'Total Generated ('000 tonnes)',\n",
      "       'Total Recycled ('000 tonnes)', 'Year'],\n",
      "      dtype='object')\n",
      "  The table gives the amount of energy saved in kilowatt hour (kWh) and the amount of crude oil (barrels) by recycling 1 metric tonne (1000 kilogram)  per waste type  \\\n",
      "0    1 barrel oil is approximately 159 litres of oil                                                                                                                    \n",
      "1                                                NaN                                                                                                                    \n",
      "2                                           material                                                                                                                    \n",
      "3                                       energy_saved                                                                                                                    \n",
      "4                                    crude_oil saved                                                                                                                    \n",
      "\n",
      "   Unnamed: 1 Unnamed: 2     Unnamed: 3         Unnamed: 4   Unnamed: 5  \n",
      "0         NaN        NaN            NaN                NaN          NaN  \n",
      "1         NaN        NaN            NaN                NaN          NaN  \n",
      "2     Plastic      Glass  Ferrous Metal  Non-Ferrous Metal        Paper  \n",
      "3    5774 Kwh     42 Kwh        642 Kwh          14000 Kwh     4000 kWh  \n",
      "4  16 barrels        NaN    1.8 barrels         40 barrels  1.7 barrels  \n",
      "(5, 6)\n",
      "['The table gives the amount of energy saved in kilowatt hour (kWh) and the amount of crude oil (barrels) by recycling 1 metric tonne (1000 kilogram)  per waste type', 'Unnamed: 1', 'Unnamed: 2', 'Unnamed: 3', 'Unnamed: 4', 'Unnamed: 5']\n",
      "Index(['The table gives the amount of energy saved in kilowatt hour (kWh) and the amount of crude oil (barrels) by recycling 1 metric tonne (1000 kilogram)  per waste type',\n",
      "       'Unnamed: 1', 'Unnamed: 2', 'Unnamed: 3', 'Unnamed: 4', 'Unnamed: 5'],\n",
      "      dtype='object')\n"
     ]
    }
   ],
   "source": [
    "for df in tuple_df:\n",
    "    print(df.head())\n",
    "    print(df.shape)\n",
    "    print(df.columns[df.isna().any()].tolist())\n",
    "    print(df.columns)\n",
    "    "
   ]
  },
  {
   "cell_type": "code",
   "execution_count": 6,
   "metadata": {
    "dc": {
     "key": "4"
    }
   },
   "outputs": [],
   "source": [
    "#Convert '000 tonnes in newer stats data to tonnes\n",
    "convert_cols = waste_stats_newer.columns[1:3]\n",
    "waste_stats_newer[convert_cols] = waste_stats_newer[convert_cols]*1000"
   ]
  },
  {
   "cell_type": "code",
   "execution_count": 7,
   "metadata": {
    "dc": {
     "key": "4"
    }
   },
   "outputs": [
    {
     "name": "stdout",
     "output_type": "stream",
     "text": [
      "['Food' 'Paper/Cardboard' 'Plastics' 'C&D' 'Horticultural waste' 'Wood'\n",
      " 'Ferrous metal' 'Non-ferrous metal' 'Used slag' 'Ash & Sludge' 'Glass'\n",
      " 'Textile/Leather' 'Scrap tyres' 'Others (stones, ceramics & rubber etc.)'\n",
      " 'Total' 'Others (stones, ceramics & rubber etc)' 'Food waste'\n",
      " 'Construction Debris' 'Wood/Timber' 'Horticultural Waste' 'Ferrous Metal'\n",
      " 'Non-ferrous Metals' 'Used Slag' 'Sludge' 'Scrap Tyres' 'Ferrous Metals'\n",
      " 'Others' 'Construction debris' 'Non-ferrous metals' 'Ash and sludge'\n",
      " 'Plastic' 'Others (stones, ceramic, rubber, etc.)']\n",
      "32\n",
      "['Construction& Demolition' 'Ferrous Metal' 'Paper/Cardboard' 'Plastics'\n",
      " 'Food' 'Wood' 'Horticultural' 'Ash & Sludge' 'Textile/Leather'\n",
      " 'Used Slag' 'Non-Ferrous Metal' 'Glass' 'Scrap Tyres'\n",
      " 'Others (stones, ceramic, rubber, ect)' 'Overall']\n",
      "15\n"
     ]
    },
    {
     "data": {
      "text/html": [
       "<div>\n",
       "<style scoped>\n",
       "    .dataframe tbody tr th:only-of-type {\n",
       "        vertical-align: middle;\n",
       "    }\n",
       "\n",
       "    .dataframe tbody tr th {\n",
       "        vertical-align: top;\n",
       "    }\n",
       "\n",
       "    .dataframe thead th {\n",
       "        text-align: right;\n",
       "    }\n",
       "</style>\n",
       "<table border=\"1\" class=\"dataframe\">\n",
       "  <thead>\n",
       "    <tr style=\"text-align: right;\">\n",
       "      <th></th>\n",
       "      <th>Waste Type</th>\n",
       "      <th>Waste Disposed of (tonnes)</th>\n",
       "      <th>Total Recycled ('000 tonnes)</th>\n",
       "      <th>Total Generated ('000 tonnes)</th>\n",
       "      <th>Recycling Rate</th>\n",
       "      <th>Year</th>\n",
       "    </tr>\n",
       "  </thead>\n",
       "  <tbody>\n",
       "    <tr>\n",
       "      <th>0</th>\n",
       "      <td>Food</td>\n",
       "      <td>679900</td>\n",
       "      <td>111100.0</td>\n",
       "      <td>791000</td>\n",
       "      <td>0.14</td>\n",
       "      <td>2016</td>\n",
       "    </tr>\n",
       "    <tr>\n",
       "      <th>1</th>\n",
       "      <td>Paper/Cardboard</td>\n",
       "      <td>576000</td>\n",
       "      <td>607100.0</td>\n",
       "      <td>1183100</td>\n",
       "      <td>0.51</td>\n",
       "      <td>2016</td>\n",
       "    </tr>\n",
       "    <tr>\n",
       "      <th>2</th>\n",
       "      <td>Plastics</td>\n",
       "      <td>762700</td>\n",
       "      <td>59500.0</td>\n",
       "      <td>822200</td>\n",
       "      <td>0.07</td>\n",
       "      <td>2016</td>\n",
       "    </tr>\n",
       "    <tr>\n",
       "      <th>3</th>\n",
       "      <td>C&amp;D</td>\n",
       "      <td>9700</td>\n",
       "      <td>1585700.0</td>\n",
       "      <td>1595400</td>\n",
       "      <td>0.99</td>\n",
       "      <td>2016</td>\n",
       "    </tr>\n",
       "    <tr>\n",
       "      <th>4</th>\n",
       "      <td>Horticultural waste</td>\n",
       "      <td>111500</td>\n",
       "      <td>209000.0</td>\n",
       "      <td>320500</td>\n",
       "      <td>0.65</td>\n",
       "      <td>2016</td>\n",
       "    </tr>\n",
       "  </tbody>\n",
       "</table>\n",
       "</div>"
      ],
      "text/plain": [
       "            Waste Type  Waste Disposed of (tonnes)  \\\n",
       "0                 Food                      679900   \n",
       "1      Paper/Cardboard                      576000   \n",
       "2             Plastics                      762700   \n",
       "3                  C&D                        9700   \n",
       "4  Horticultural waste                      111500   \n",
       "\n",
       "   Total Recycled ('000 tonnes)  Total Generated ('000 tonnes)  \\\n",
       "0                      111100.0                         791000   \n",
       "1                      607100.0                        1183100   \n",
       "2                       59500.0                         822200   \n",
       "3                     1585700.0                        1595400   \n",
       "4                      209000.0                         320500   \n",
       "\n",
       "   Recycling Rate  Year  \n",
       "0            0.14  2016  \n",
       "1            0.51  2016  \n",
       "2            0.07  2016  \n",
       "3            0.99  2016  \n",
       "4            0.65  2016  "
      ]
     },
     "execution_count": 7,
     "metadata": {},
     "output_type": "execute_result"
    }
   ],
   "source": [
    "stats_dict = {'waste_type':'Waste Type',\n",
    "              'waste_disposed_of_tonne':'Waste Disposed of (tonnes)',\n",
    "              'recycling_rate': 'Recycling Rate',\n",
    "             'total_waste_generated_tonne':'Total Generated (\\'000 tonnes)',\n",
    "             'total_waste_recycled_tonne':'Total Recycled (\\'000 tonnes)',\n",
    "             'year':'Year'}\n",
    "waste_stats_older = waste_stats_older.rename(columns = stats_dict)\n",
    "print(waste_stats_older['Waste Type'].unique())\n",
    "print(len(waste_stats_older['Waste Type'].unique()))\n",
    "print(waste_stats_newer['Waste Type'].unique())\n",
    "print(len(waste_stats_newer['Waste Type'].unique()))\n",
    "waste_stats_older.head()"
   ]
  },
  {
   "cell_type": "code",
   "execution_count": 8,
   "metadata": {
    "dc": {
     "key": "4"
    }
   },
   "outputs": [
    {
     "name": "stdout",
     "output_type": "stream",
     "text": [
      "Others (stones, ceramic, rubber, ect)    2\n",
      "Ash & Sludge                             2\n",
      "Overall                                  2\n",
      "Construction& Demolition                 2\n",
      "Paper/Cardboard                          2\n",
      "Used Slag                                2\n",
      "Ferrous Metal                            2\n",
      "Plastics                                 2\n",
      "Textile/Leather                          2\n",
      "Scrap Tyres                              2\n",
      "Wood                                     2\n",
      "Horticultural                            2\n",
      "Non-Ferrous Metal                        2\n",
      "Food                                     2\n",
      "Glass                                    2\n",
      "Name: Waste Type, dtype: int64\n",
      "Paper/Cardboard                            15\n",
      "Textile/Leather                            15\n",
      "Glass                                      15\n",
      "Total                                      15\n",
      "Plastics                                   14\n",
      "Others (stones, ceramics & rubber etc)     12\n",
      "Scrap Tyres                                11\n",
      "Sludge                                     11\n",
      "Construction Debris                        11\n",
      "Horticultural Waste                        11\n",
      "Non-ferrous Metals                         11\n",
      "Wood/Timber                                11\n",
      "Food waste                                 11\n",
      "Used Slag                                  11\n",
      "Ferrous Metal                               7\n",
      "Food                                        4\n",
      "Horticultural waste                         4\n",
      "Scrap tyres                                 4\n",
      "Wood                                        4\n",
      "Ferrous Metals                              4\n",
      "Ferrous metal                               4\n",
      "Used slag                                   4\n",
      "C&D                                         3\n",
      "Ash & Sludge                                3\n",
      "Non-ferrous metal                           3\n",
      "Others                                      1\n",
      "Non-ferrous metals                          1\n",
      "Ash and sludge                              1\n",
      "Plastic                                     1\n",
      "Others (stones, ceramic, rubber, etc.)      1\n",
      "Others (stones, ceramics & rubber etc.)     1\n",
      "Construction debris                         1\n",
      "Name: Waste Type, dtype: int64\n"
     ]
    }
   ],
   "source": [
    "print(waste_stats_newer['Waste Type'].value_counts())\n",
    "print(waste_stats_older['Waste Type'].value_counts())"
   ]
  },
  {
   "cell_type": "code",
   "execution_count": 9,
   "metadata": {
    "dc": {
     "key": "4"
    },
    "tags": []
   },
   "outputs": [],
   "source": [
    "#Regex syntax to pull for considered values of Waste Type attribute\n",
    "## Non-Ferrous Metals\n",
    "# (?i)(non).(ferrous).\\w*\\b\n",
    "## Ferrous Metal\n",
    "#(?i)^(ferrous).(metal)\\s\n",
    "## plastic\n",
    "# (?:lastic)\n",
    "regx_values = {r'(?i)(non).(ferrous).\\w*\\b':'Non-Ferrous Metal',\n",
    "              r'(?i)^(ferrous).\\w*\\b':'Ferrous Metal',\n",
    "              r'(?i)^.*(plastic).?\\b': 'Plastics'\n",
    "              }\n"
   ]
  },
  {
   "cell_type": "code",
   "execution_count": 10,
   "metadata": {
    "dc": {
     "key": "4"
    }
   },
   "outputs": [
    {
     "name": "stdout",
     "output_type": "stream",
     "text": [
      "['Food' 'Paper/Cardboard' 'Plastics' 'C&D' 'Horticultural waste' 'Wood'\n",
      " 'Ferrous Metal' 'Non-Ferrous Metal' 'Used slag' 'Ash & Sludge' 'Glass'\n",
      " 'Textile/Leather' 'Scrap tyres' 'Others (stones, ceramics & rubber etc.)'\n",
      " 'Total' 'Others (stones, ceramics & rubber etc)' 'Food waste'\n",
      " 'Construction Debris' 'Wood/Timber' 'Horticultural Waste' 'Used Slag'\n",
      " 'Sludge' 'Scrap Tyres' 'Others' 'Construction debris' 'Ash and sludge'\n",
      " 'Others (stones, ceramic, rubber, etc.)']\n",
      "Non-Ferrous Metal                          15\n",
      "Plastics                                   15\n",
      "Ferrous Metal                              15\n",
      "Glass                                      15\n",
      "Textile/Leather                            15\n",
      "Total                                      15\n",
      "Paper/Cardboard                            15\n",
      "Others (stones, ceramics & rubber etc)     12\n",
      "Horticultural Waste                        11\n",
      "Used Slag                                  11\n",
      "Sludge                                     11\n",
      "Construction Debris                        11\n",
      "Scrap Tyres                                11\n",
      "Wood/Timber                                11\n",
      "Food waste                                 11\n",
      "Used slag                                   4\n",
      "Wood                                        4\n",
      "Scrap tyres                                 4\n",
      "Food                                        4\n",
      "Horticultural waste                         4\n",
      "Ash & Sludge                                3\n",
      "C&D                                         3\n",
      "Construction debris                         1\n",
      "Others (stones, ceramic, rubber, etc.)      1\n",
      "Others                                      1\n",
      "Ash and sludge                              1\n",
      "Others (stones, ceramics & rubber etc.)     1\n",
      "Name: Waste Type, dtype: int64\n"
     ]
    }
   ],
   "source": [
    "f_waste_stats_older = waste_stats_older.replace(regx_values, regex = True)\n",
    "print(f_waste_stats_older['Waste Type'].unique())\n",
    "print(f_waste_stats_older['Waste Type'].value_counts())"
   ]
  },
  {
   "cell_type": "code",
   "execution_count": 11,
   "metadata": {
    "dc": {
     "key": "4"
    },
    "scrolled": true
   },
   "outputs": [
    {
     "data": {
      "text/html": [
       "<div>\n",
       "<style scoped>\n",
       "    .dataframe tbody tr th:only-of-type {\n",
       "        vertical-align: middle;\n",
       "    }\n",
       "\n",
       "    .dataframe tbody tr th {\n",
       "        vertical-align: top;\n",
       "    }\n",
       "\n",
       "    .dataframe thead th {\n",
       "        text-align: right;\n",
       "    }\n",
       "</style>\n",
       "<table border=\"1\" class=\"dataframe\">\n",
       "  <thead>\n",
       "    <tr style=\"text-align: right;\">\n",
       "      <th></th>\n",
       "      <th>Waste Type</th>\n",
       "      <th>Waste Disposed of (tonnes)</th>\n",
       "      <th>Total Recycled ('000 tonnes)</th>\n",
       "      <th>Total Generated ('000 tonnes)</th>\n",
       "      <th>Recycling Rate</th>\n",
       "      <th>Year</th>\n",
       "    </tr>\n",
       "  </thead>\n",
       "  <tbody>\n",
       "    <tr>\n",
       "      <th>9</th>\n",
       "      <td>Ferrous Metal</td>\n",
       "      <td>57000.0</td>\n",
       "      <td>1388900.0</td>\n",
       "      <td>1445900</td>\n",
       "      <td>0.96</td>\n",
       "      <td>2014</td>\n",
       "    </tr>\n",
       "    <tr>\n",
       "      <th>56</th>\n",
       "      <td>Ferrous Metal</td>\n",
       "      <td>7800.0</td>\n",
       "      <td>1371000.0</td>\n",
       "      <td>1378800</td>\n",
       "      <td>0.99</td>\n",
       "      <td>2017</td>\n",
       "    </tr>\n",
       "    <tr>\n",
       "      <th>13</th>\n",
       "      <td>Ferrous Metal</td>\n",
       "      <td>46800.0</td>\n",
       "      <td>1369200.0</td>\n",
       "      <td>1416000</td>\n",
       "      <td>0.97</td>\n",
       "      <td>2013</td>\n",
       "    </tr>\n",
       "    <tr>\n",
       "      <th>1</th>\n",
       "      <td>Ferrous Metal</td>\n",
       "      <td>6000.0</td>\n",
       "      <td>1351500.0</td>\n",
       "      <td>1357500</td>\n",
       "      <td>0.99</td>\n",
       "      <td>2016</td>\n",
       "    </tr>\n",
       "    <tr>\n",
       "      <th>5</th>\n",
       "      <td>Ferrous Metal</td>\n",
       "      <td>15200.0</td>\n",
       "      <td>1333300.0</td>\n",
       "      <td>1348500</td>\n",
       "      <td>0.99</td>\n",
       "      <td>2015</td>\n",
       "    </tr>\n",
       "  </tbody>\n",
       "</table>\n",
       "</div>"
      ],
      "text/plain": [
       "       Waste Type  Waste Disposed of (tonnes)  Total Recycled ('000 tonnes)  \\\n",
       "9   Ferrous Metal                     57000.0                     1388900.0   \n",
       "56  Ferrous Metal                      7800.0                     1371000.0   \n",
       "13  Ferrous Metal                     46800.0                     1369200.0   \n",
       "1   Ferrous Metal                      6000.0                     1351500.0   \n",
       "5   Ferrous Metal                     15200.0                     1333300.0   \n",
       "\n",
       "    Total Generated ('000 tonnes)  Recycling Rate  Year  \n",
       "9                         1445900            0.96  2014  \n",
       "56                        1378800            0.99  2017  \n",
       "13                        1416000            0.97  2013  \n",
       "1                         1357500            0.99  2016  \n",
       "5                         1348500            0.99  2015  "
      ]
     },
     "execution_count": 11,
     "metadata": {},
     "output_type": "execute_result"
    }
   ],
   "source": [
    "total_waste_stats = pd.concat((f_waste_stats_older, waste_stats_newer))\n",
    "recycled_waste_stats = total_waste_stats[total_waste_stats['Waste Type'].isin(['Glass','Plastics', 'Ferrous Metal', 'Non-Ferrous Metal'])]\n",
    "recycled_waste_stats=recycled_waste_stats.reset_index(drop = True)\n",
    "recycled_waste_stats.sort_values('Total Recycled (\\'000 tonnes)', ascending = False).head()"
   ]
  },
  {
   "cell_type": "code",
   "execution_count": 12,
   "metadata": {
    "dc": {
     "key": "4"
    }
   },
   "outputs": [
    {
     "data": {
      "text/plain": [
       "0              Plastics\n",
       "1         Ferrous Metal\n",
       "2     Non-Ferrous Metal\n",
       "3                 Glass\n",
       "4              Plastics\n",
       "            ...        \n",
       "63                Glass\n",
       "64        Ferrous Metal\n",
       "65             Plastics\n",
       "66    Non-Ferrous Metal\n",
       "67                Glass\n",
       "Name: Waste Type, Length: 68, dtype: object"
      ]
     },
     "execution_count": 12,
     "metadata": {},
     "output_type": "execute_result"
    }
   ],
   "source": [
    "recycled_waste_stats['Waste Type']"
   ]
  },
  {
   "cell_type": "code",
   "execution_count": 13,
   "metadata": {
    "dc": {
     "key": "4"
    }
   },
   "outputs": [
    {
     "data": {
      "text/html": [
       "<div>\n",
       "<style scoped>\n",
       "    .dataframe tbody tr th:only-of-type {\n",
       "        vertical-align: middle;\n",
       "    }\n",
       "\n",
       "    .dataframe tbody tr th {\n",
       "        vertical-align: top;\n",
       "    }\n",
       "\n",
       "    .dataframe thead th {\n",
       "        text-align: right;\n",
       "    }\n",
       "</style>\n",
       "<table border=\"1\" class=\"dataframe\">\n",
       "  <thead>\n",
       "    <tr style=\"text-align: right;\">\n",
       "      <th></th>\n",
       "      <th>0</th>\n",
       "      <th>1</th>\n",
       "      <th>2</th>\n",
       "      <th>3</th>\n",
       "      <th>4</th>\n",
       "    </tr>\n",
       "  </thead>\n",
       "  <tbody>\n",
       "    <tr>\n",
       "      <th>The table gives the amount of energy saved in kilowatt hour (kWh) and the amount of crude oil (barrels) by recycling 1 metric tonne (1000 kilogram)  per waste type</th>\n",
       "      <td>1 barrel oil is approximately 159 litres of oil</td>\n",
       "      <td>NaN</td>\n",
       "      <td>material</td>\n",
       "      <td>energy_saved</td>\n",
       "      <td>crude_oil saved</td>\n",
       "    </tr>\n",
       "    <tr>\n",
       "      <th>Unnamed: 1</th>\n",
       "      <td>NaN</td>\n",
       "      <td>NaN</td>\n",
       "      <td>Plastic</td>\n",
       "      <td>5774 Kwh</td>\n",
       "      <td>16 barrels</td>\n",
       "    </tr>\n",
       "    <tr>\n",
       "      <th>Unnamed: 2</th>\n",
       "      <td>NaN</td>\n",
       "      <td>NaN</td>\n",
       "      <td>Glass</td>\n",
       "      <td>42 Kwh</td>\n",
       "      <td>NaN</td>\n",
       "    </tr>\n",
       "    <tr>\n",
       "      <th>Unnamed: 3</th>\n",
       "      <td>NaN</td>\n",
       "      <td>NaN</td>\n",
       "      <td>Ferrous Metal</td>\n",
       "      <td>642 Kwh</td>\n",
       "      <td>1.8 barrels</td>\n",
       "    </tr>\n",
       "    <tr>\n",
       "      <th>Unnamed: 4</th>\n",
       "      <td>NaN</td>\n",
       "      <td>NaN</td>\n",
       "      <td>Non-Ferrous Metal</td>\n",
       "      <td>14000 Kwh</td>\n",
       "      <td>40 barrels</td>\n",
       "    </tr>\n",
       "  </tbody>\n",
       "</table>\n",
       "</div>"
      ],
      "text/plain": [
       "                                                                                                  0  \\\n",
       "The table gives the amount of energy saved in k...  1 barrel oil is approximately 159 litres of oil   \n",
       "Unnamed: 1                                                                                      NaN   \n",
       "Unnamed: 2                                                                                      NaN   \n",
       "Unnamed: 3                                                                                      NaN   \n",
       "Unnamed: 4                                                                                      NaN   \n",
       "\n",
       "                                                      1                  2  \\\n",
       "The table gives the amount of energy saved in k...  NaN           material   \n",
       "Unnamed: 1                                          NaN            Plastic   \n",
       "Unnamed: 2                                          NaN              Glass   \n",
       "Unnamed: 3                                          NaN      Ferrous Metal   \n",
       "Unnamed: 4                                          NaN  Non-Ferrous Metal   \n",
       "\n",
       "                                                               3  \\\n",
       "The table gives the amount of energy saved in k...  energy_saved   \n",
       "Unnamed: 1                                              5774 Kwh   \n",
       "Unnamed: 2                                                42 Kwh   \n",
       "Unnamed: 3                                               642 Kwh   \n",
       "Unnamed: 4                                             14000 Kwh   \n",
       "\n",
       "                                                                  4  \n",
       "The table gives the amount of energy saved in k...  crude_oil saved  \n",
       "Unnamed: 1                                               16 barrels  \n",
       "Unnamed: 2                                                      NaN  \n",
       "Unnamed: 3                                              1.8 barrels  \n",
       "Unnamed: 4                                               40 barrels  "
      ]
     },
     "execution_count": 13,
     "metadata": {},
     "output_type": "execute_result"
    }
   ],
   "source": [
    "energy_stats=energy_stats.transpose()\n",
    "energy_stats.head()"
   ]
  },
  {
   "cell_type": "code",
   "execution_count": 14,
   "metadata": {
    "dc": {
     "key": "4"
    },
    "scrolled": true
   },
   "outputs": [
    {
     "name": "stdout",
     "output_type": "stream",
     "text": [
      "            material energy_saved crude_oil saved\n",
      "1            Plastic     5774 Kwh      16 barrels\n",
      "2              Glass       42 Kwh             NaN\n",
      "3      Ferrous Metal      642 Kwh     1.8 barrels\n",
      "4  Non-Ferrous Metal    14000 Kwh      40 barrels\n",
      "Plastics             1\n",
      "Non-Ferrous Metal    1\n",
      "Glass                1\n",
      "Ferrous Metal        1\n",
      "Name: material, dtype: int64\n"
     ]
    }
   ],
   "source": [
    "f_energy_stats = energy_stats.iloc[0:5,2:].reset_index(drop = True)\n",
    "f_energy_stats.columns = list(f_energy_stats.iloc[0])\n",
    "\n",
    "\n",
    "f_energy_stats = f_energy_stats.iloc[1:]\n",
    "f_energy_stats.head()\n",
    "print(f_energy_stats.head())\n",
    "\n",
    "#Replace 'Plastic' to 'Plastics'\n",
    "f_energy_stats = f_energy_stats.replace({'Plastic': 'Plastics'})\n",
    "print(f_energy_stats['material'].value_counts())"
   ]
  },
  {
   "cell_type": "code",
   "execution_count": 15,
   "metadata": {
    "dc": {
     "key": "4"
    }
   },
   "outputs": [],
   "source": [
    "f_energy_stats['energy_saved'] = f_energy_stats['energy_saved'].str.split(r'\\s.*?\\Z',expand = True)\n",
    "f_energy_stats['energy_saved'] = f_energy_stats['energy_saved'].astype(int)"
   ]
  },
  {
   "cell_type": "code",
   "execution_count": 16,
   "metadata": {
    "dc": {
     "key": "4"
    }
   },
   "outputs": [
    {
     "name": "stdout",
     "output_type": "stream",
     "text": [
      "1     5774\n",
      "2       42\n",
      "3      642\n",
      "4    14000\n",
      "Name: energy_saved, dtype: int32\n",
      "<class 'pandas.core.series.Series'>\n",
      "0      59500\n",
      "1    1351500\n",
      "2      95900\n",
      "3      14700\n",
      "4      57800\n",
      "Name: Total Recycled ('000 tonnes), dtype: int32\n",
      "<class 'pandas.core.series.Series'>\n"
     ]
    }
   ],
   "source": [
    "recycled_waste_stats['Total Recycled (\\'000 tonnes)'] = recycled_waste_stats['Total Recycled (\\'000 tonnes)'].astype(int)\n",
    "\n",
    "print(f_energy_stats['energy_saved'].head())\n",
    "print(type(f_energy_stats['energy_saved']))\n",
    "print(recycled_waste_stats['Total Recycled (\\'000 tonnes)'].head())\n",
    "print(type(recycled_waste_stats['Total Recycled (\\'000 tonnes)']))\n"
   ]
  },
  {
   "cell_type": "code",
   "execution_count": 17,
   "metadata": {
    "dc": {
     "key": "4"
    }
   },
   "outputs": [
    {
     "data": {
      "text/html": [
       "<div>\n",
       "<style scoped>\n",
       "    .dataframe tbody tr th:only-of-type {\n",
       "        vertical-align: middle;\n",
       "    }\n",
       "\n",
       "    .dataframe tbody tr th {\n",
       "        vertical-align: top;\n",
       "    }\n",
       "\n",
       "    .dataframe thead th {\n",
       "        text-align: right;\n",
       "    }\n",
       "</style>\n",
       "<table border=\"1\" class=\"dataframe\">\n",
       "  <thead>\n",
       "    <tr style=\"text-align: right;\">\n",
       "      <th></th>\n",
       "      <th>Waste Type</th>\n",
       "      <th>Waste Disposed of (tonnes)</th>\n",
       "      <th>Total Recycled ('000 tonnes)</th>\n",
       "      <th>Total Generated ('000 tonnes)</th>\n",
       "      <th>Recycling Rate</th>\n",
       "      <th>year</th>\n",
       "      <th>material</th>\n",
       "      <th>energy_saved</th>\n",
       "      <th>crude_oil saved</th>\n",
       "      <th>total_energy_saved</th>\n",
       "    </tr>\n",
       "  </thead>\n",
       "  <tbody>\n",
       "    <tr>\n",
       "      <th>0</th>\n",
       "      <td>Plastics</td>\n",
       "      <td>762700.0</td>\n",
       "      <td>59500</td>\n",
       "      <td>822200</td>\n",
       "      <td>0.07</td>\n",
       "      <td>2016</td>\n",
       "      <td>Plastics</td>\n",
       "      <td>5774</td>\n",
       "      <td>16 barrels</td>\n",
       "      <td>343553000</td>\n",
       "    </tr>\n",
       "    <tr>\n",
       "      <th>1</th>\n",
       "      <td>Plastics</td>\n",
       "      <td>766800.0</td>\n",
       "      <td>57800</td>\n",
       "      <td>824600</td>\n",
       "      <td>0.07</td>\n",
       "      <td>2015</td>\n",
       "      <td>Plastics</td>\n",
       "      <td>5774</td>\n",
       "      <td>16 barrels</td>\n",
       "      <td>333737200</td>\n",
       "    </tr>\n",
       "    <tr>\n",
       "      <th>2</th>\n",
       "      <td>Plastics</td>\n",
       "      <td>789000.0</td>\n",
       "      <td>80000</td>\n",
       "      <td>869000</td>\n",
       "      <td>0.09</td>\n",
       "      <td>2014</td>\n",
       "      <td>Plastics</td>\n",
       "      <td>5774</td>\n",
       "      <td>16 barrels</td>\n",
       "      <td>461920000</td>\n",
       "    </tr>\n",
       "    <tr>\n",
       "      <th>3</th>\n",
       "      <td>Plastics</td>\n",
       "      <td>741100.0</td>\n",
       "      <td>91100</td>\n",
       "      <td>832200</td>\n",
       "      <td>0.11</td>\n",
       "      <td>2013</td>\n",
       "      <td>Plastics</td>\n",
       "      <td>5774</td>\n",
       "      <td>16 barrels</td>\n",
       "      <td>526011400</td>\n",
       "    </tr>\n",
       "    <tr>\n",
       "      <th>4</th>\n",
       "      <td>Plastics</td>\n",
       "      <td>721300.0</td>\n",
       "      <td>82100</td>\n",
       "      <td>803400</td>\n",
       "      <td>0.10</td>\n",
       "      <td>2012</td>\n",
       "      <td>Plastics</td>\n",
       "      <td>5774</td>\n",
       "      <td>16 barrels</td>\n",
       "      <td>474045400</td>\n",
       "    </tr>\n",
       "  </tbody>\n",
       "</table>\n",
       "</div>"
      ],
      "text/plain": [
       "  Waste Type  Waste Disposed of (tonnes)  Total Recycled ('000 tonnes)  \\\n",
       "0   Plastics                    762700.0                         59500   \n",
       "1   Plastics                    766800.0                         57800   \n",
       "2   Plastics                    789000.0                         80000   \n",
       "3   Plastics                    741100.0                         91100   \n",
       "4   Plastics                    721300.0                         82100   \n",
       "\n",
       "   Total Generated ('000 tonnes)  Recycling Rate  year  material  \\\n",
       "0                         822200            0.07  2016  Plastics   \n",
       "1                         824600            0.07  2015  Plastics   \n",
       "2                         869000            0.09  2014  Plastics   \n",
       "3                         832200            0.11  2013  Plastics   \n",
       "4                         803400            0.10  2012  Plastics   \n",
       "\n",
       "   energy_saved crude_oil saved  total_energy_saved  \n",
       "0          5774      16 barrels           343553000  \n",
       "1          5774      16 barrels           333737200  \n",
       "2          5774      16 barrels           461920000  \n",
       "3          5774      16 barrels           526011400  \n",
       "4          5774      16 barrels           474045400  "
      ]
     },
     "execution_count": 17,
     "metadata": {},
     "output_type": "execute_result"
    }
   ],
   "source": [
    "rec_waste_stats = recycled_waste_stats.merge(f_energy_stats, left_on='Waste Type', right_on='material')\n",
    "rec_waste_stats =rec_waste_stats.rename(columns = {'Year':'year'})\n",
    "rec_waste_stats['total_energy_saved'] = rec_waste_stats['Total Recycled (\\'000 tonnes)'].values * rec_waste_stats['energy_saved'].values\n",
    "rec_waste_stats.head()"
   ]
  },
  {
   "cell_type": "code",
   "execution_count": 18,
   "metadata": {
    "dc": {
     "key": "4"
    }
   },
   "outputs": [
    {
     "data": {
      "text/plain": [
       "Plastics             5\n",
       "Non-Ferrous Metal    5\n",
       "Glass                5\n",
       "Ferrous Metal        5\n",
       "Name: Waste Type, dtype: int64"
      ]
     },
     "execution_count": 18,
     "metadata": {},
     "output_type": "execute_result"
    }
   ],
   "source": [
    "rec_waste_stats.sort_values(by = ['material','year'], ascending = False)\n",
    "rec_waste_stats=rec_waste_stats.loc[rec_waste_stats['year'].isin(list(range(2015,2020)))]\n",
    "rec_waste_stats['Waste Type'].value_counts()\n"
   ]
  },
  {
   "cell_type": "code",
   "execution_count": 19,
   "metadata": {
    "dc": {
     "key": "4"
    }
   },
   "outputs": [
    {
     "data": {
      "text/html": [
       "<div>\n",
       "<style scoped>\n",
       "    .dataframe tbody tr th:only-of-type {\n",
       "        vertical-align: middle;\n",
       "    }\n",
       "\n",
       "    .dataframe tbody tr th {\n",
       "        vertical-align: top;\n",
       "    }\n",
       "\n",
       "    .dataframe thead th {\n",
       "        text-align: right;\n",
       "    }\n",
       "</style>\n",
       "<table border=\"1\" class=\"dataframe\">\n",
       "  <thead>\n",
       "    <tr style=\"text-align: right;\">\n",
       "      <th></th>\n",
       "      <th>total_energy_saved</th>\n",
       "      <th>year</th>\n",
       "      <th>Waste Type</th>\n",
       "    </tr>\n",
       "  </thead>\n",
       "  <tbody>\n",
       "    <tr>\n",
       "      <th>0</th>\n",
       "      <td>343553000</td>\n",
       "      <td>2016</td>\n",
       "      <td>Plastics</td>\n",
       "    </tr>\n",
       "    <tr>\n",
       "      <th>1</th>\n",
       "      <td>333737200</td>\n",
       "      <td>2015</td>\n",
       "      <td>Plastics</td>\n",
       "    </tr>\n",
       "    <tr>\n",
       "      <th>14</th>\n",
       "      <td>299093200</td>\n",
       "      <td>2017</td>\n",
       "      <td>Plastics</td>\n",
       "    </tr>\n",
       "    <tr>\n",
       "      <th>15</th>\n",
       "      <td>213638000</td>\n",
       "      <td>2019</td>\n",
       "      <td>Plastics</td>\n",
       "    </tr>\n",
       "    <tr>\n",
       "      <th>16</th>\n",
       "      <td>236734000</td>\n",
       "      <td>2018</td>\n",
       "      <td>Plastics</td>\n",
       "    </tr>\n",
       "    <tr>\n",
       "      <th>17</th>\n",
       "      <td>867663000</td>\n",
       "      <td>2016</td>\n",
       "      <td>Ferrous Metal</td>\n",
       "    </tr>\n",
       "    <tr>\n",
       "      <th>18</th>\n",
       "      <td>855978600</td>\n",
       "      <td>2015</td>\n",
       "      <td>Ferrous Metal</td>\n",
       "    </tr>\n",
       "    <tr>\n",
       "      <th>31</th>\n",
       "      <td>880182000</td>\n",
       "      <td>2017</td>\n",
       "      <td>Ferrous Metal</td>\n",
       "    </tr>\n",
       "    <tr>\n",
       "      <th>32</th>\n",
       "      <td>815340000</td>\n",
       "      <td>2019</td>\n",
       "      <td>Ferrous Metal</td>\n",
       "    </tr>\n",
       "    <tr>\n",
       "      <th>33</th>\n",
       "      <td>80892000</td>\n",
       "      <td>2018</td>\n",
       "      <td>Ferrous Metal</td>\n",
       "    </tr>\n",
       "    <tr>\n",
       "      <th>34</th>\n",
       "      <td>1342600000</td>\n",
       "      <td>2016</td>\n",
       "      <td>Non-Ferrous Metal</td>\n",
       "    </tr>\n",
       "    <tr>\n",
       "      <th>35</th>\n",
       "      <td>-2049367296</td>\n",
       "      <td>2015</td>\n",
       "      <td>Non-Ferrous Metal</td>\n",
       "    </tr>\n",
       "    <tr>\n",
       "      <th>48</th>\n",
       "      <td>1290800000</td>\n",
       "      <td>2017</td>\n",
       "      <td>Non-Ferrous Metal</td>\n",
       "    </tr>\n",
       "    <tr>\n",
       "      <th>49</th>\n",
       "      <td>1736000000</td>\n",
       "      <td>2019</td>\n",
       "      <td>Non-Ferrous Metal</td>\n",
       "    </tr>\n",
       "    <tr>\n",
       "      <th>50</th>\n",
       "      <td>-1914967296</td>\n",
       "      <td>2018</td>\n",
       "      <td>Non-Ferrous Metal</td>\n",
       "    </tr>\n",
       "    <tr>\n",
       "      <th>51</th>\n",
       "      <td>617400</td>\n",
       "      <td>2016</td>\n",
       "      <td>Glass</td>\n",
       "    </tr>\n",
       "    <tr>\n",
       "      <th>52</th>\n",
       "      <td>613200</td>\n",
       "      <td>2015</td>\n",
       "      <td>Glass</td>\n",
       "    </tr>\n",
       "    <tr>\n",
       "      <th>65</th>\n",
       "      <td>520800</td>\n",
       "      <td>2017</td>\n",
       "      <td>Glass</td>\n",
       "    </tr>\n",
       "    <tr>\n",
       "      <th>66</th>\n",
       "      <td>462000</td>\n",
       "      <td>2019</td>\n",
       "      <td>Glass</td>\n",
       "    </tr>\n",
       "    <tr>\n",
       "      <th>67</th>\n",
       "      <td>504000</td>\n",
       "      <td>2018</td>\n",
       "      <td>Glass</td>\n",
       "    </tr>\n",
       "  </tbody>\n",
       "</table>\n",
       "</div>"
      ],
      "text/plain": [
       "    total_energy_saved  year         Waste Type\n",
       "0            343553000  2016           Plastics\n",
       "1            333737200  2015           Plastics\n",
       "14           299093200  2017           Plastics\n",
       "15           213638000  2019           Plastics\n",
       "16           236734000  2018           Plastics\n",
       "17           867663000  2016      Ferrous Metal\n",
       "18           855978600  2015      Ferrous Metal\n",
       "31           880182000  2017      Ferrous Metal\n",
       "32           815340000  2019      Ferrous Metal\n",
       "33            80892000  2018      Ferrous Metal\n",
       "34          1342600000  2016  Non-Ferrous Metal\n",
       "35         -2049367296  2015  Non-Ferrous Metal\n",
       "48          1290800000  2017  Non-Ferrous Metal\n",
       "49          1736000000  2019  Non-Ferrous Metal\n",
       "50         -1914967296  2018  Non-Ferrous Metal\n",
       "51              617400  2016              Glass\n",
       "52              613200  2015              Glass\n",
       "65              520800  2017              Glass\n",
       "66              462000  2019              Glass\n",
       "67              504000  2018              Glass"
      ]
     },
     "execution_count": 19,
     "metadata": {},
     "output_type": "execute_result"
    }
   ],
   "source": [
    "annual_energy_savings = rec_waste_stats[['total_energy_saved', 'year','Waste Type']]\n",
    "annual_energy_savings\n"
   ]
  },
  {
   "cell_type": "code",
   "execution_count": 20,
   "metadata": {
    "dc": {
     "key": "4"
    }
   },
   "outputs": [
    {
     "data": {
      "text/html": [
       "<div>\n",
       "<style scoped>\n",
       "    .dataframe tbody tr th:only-of-type {\n",
       "        vertical-align: middle;\n",
       "    }\n",
       "\n",
       "    .dataframe tbody tr th {\n",
       "        vertical-align: top;\n",
       "    }\n",
       "\n",
       "    .dataframe thead th {\n",
       "        text-align: right;\n",
       "    }\n",
       "</style>\n",
       "<table border=\"1\" class=\"dataframe\">\n",
       "  <thead>\n",
       "    <tr style=\"text-align: right;\">\n",
       "      <th></th>\n",
       "      <th>total_energy_saved</th>\n",
       "    </tr>\n",
       "    <tr>\n",
       "      <th>year</th>\n",
       "      <th></th>\n",
       "    </tr>\n",
       "  </thead>\n",
       "  <tbody>\n",
       "    <tr>\n",
       "      <th>2015</th>\n",
       "      <td>-8.590383e+08</td>\n",
       "    </tr>\n",
       "    <tr>\n",
       "      <th>2016</th>\n",
       "      <td>2.554433e+09</td>\n",
       "    </tr>\n",
       "    <tr>\n",
       "      <th>2017</th>\n",
       "      <td>2.470596e+09</td>\n",
       "    </tr>\n",
       "    <tr>\n",
       "      <th>2018</th>\n",
       "      <td>-1.596837e+09</td>\n",
       "    </tr>\n",
       "    <tr>\n",
       "      <th>2019</th>\n",
       "      <td>2.765440e+09</td>\n",
       "    </tr>\n",
       "  </tbody>\n",
       "</table>\n",
       "</div>"
      ],
      "text/plain": [
       "      total_energy_saved\n",
       "year                    \n",
       "2015       -8.590383e+08\n",
       "2016        2.554433e+09\n",
       "2017        2.470596e+09\n",
       "2018       -1.596837e+09\n",
       "2019        2.765440e+09"
      ]
     },
     "execution_count": 20,
     "metadata": {},
     "output_type": "execute_result"
    }
   ],
   "source": [
    "annual_energy_savings = annual_energy_savings.groupby(['year']).sum()\n",
    "annual_energy_savings.sort_values('total_energy_saved')\n",
    "annual_energy_savings"
   ]
  },
  {
   "cell_type": "code",
   "execution_count": 21,
   "metadata": {
    "dc": {
     "key": "4"
    }
   },
   "outputs": [
    {
     "data": {
      "text/html": [
       "<div>\n",
       "<style scoped>\n",
       "    .dataframe tbody tr th:only-of-type {\n",
       "        vertical-align: middle;\n",
       "    }\n",
       "\n",
       "    .dataframe tbody tr th {\n",
       "        vertical-align: top;\n",
       "    }\n",
       "\n",
       "    .dataframe thead th {\n",
       "        text-align: right;\n",
       "    }\n",
       "</style>\n",
       "<table border=\"1\" class=\"dataframe\">\n",
       "  <thead>\n",
       "    <tr style=\"text-align: right;\">\n",
       "      <th></th>\n",
       "      <th>total_energy_saved</th>\n",
       "    </tr>\n",
       "    <tr>\n",
       "      <th>year</th>\n",
       "      <th></th>\n",
       "    </tr>\n",
       "  </thead>\n",
       "  <tbody>\n",
       "    <tr>\n",
       "      <th>2015</th>\n",
       "      <td>-8.590383e+08</td>\n",
       "    </tr>\n",
       "    <tr>\n",
       "      <th>2016</th>\n",
       "      <td>2.554433e+09</td>\n",
       "    </tr>\n",
       "    <tr>\n",
       "      <th>2017</th>\n",
       "      <td>2.470596e+09</td>\n",
       "    </tr>\n",
       "    <tr>\n",
       "      <th>2018</th>\n",
       "      <td>-1.596837e+09</td>\n",
       "    </tr>\n",
       "    <tr>\n",
       "      <th>2019</th>\n",
       "      <td>2.765440e+09</td>\n",
       "    </tr>\n",
       "  </tbody>\n",
       "</table>\n",
       "</div>"
      ],
      "text/plain": [
       "      total_energy_saved\n",
       "year                    \n",
       "2015       -8.590383e+08\n",
       "2016        2.554433e+09\n",
       "2017        2.470596e+09\n",
       "2018       -1.596837e+09\n",
       "2019        2.765440e+09"
      ]
     },
     "execution_count": 21,
     "metadata": {},
     "output_type": "execute_result"
    }
   ],
   "source": [
    "annual_energy_savings"
   ]
  },
  {
   "cell_type": "code",
   "execution_count": null,
   "metadata": {
    "collapsed": true,
    "dc": {
     "key": "4"
    },
    "jupyter": {
     "outputs_hidden": true
    }
   },
   "outputs": [],
   "source": []
  }
 ],
 "metadata": {
  "kernelspec": {
   "display_name": "Python 3",
   "language": "python",
   "name": "python3"
  },
  "language_info": {
   "codemirror_mode": {
    "name": "ipython",
    "version": 3
   },
   "file_extension": ".py",
   "mimetype": "text/x-python",
   "name": "python",
   "nbconvert_exporter": "python",
   "pygments_lexer": "ipython3",
   "version": "3.8.8"
  }
 },
 "nbformat": 4,
 "nbformat_minor": 4
}
