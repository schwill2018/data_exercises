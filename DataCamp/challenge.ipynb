{
 "cells": [
  {
   "cell_type": "markdown",
   "metadata": {
    "dc": {
     "key": "4"
    },
    "deletable": false,
    "editable": false,
    "run_control": {
     "frozen": true
    },
    "tags": [
     "context"
    ]
   },
   "source": [
    "## Energy saved from recycling\n",
    "<p>Did you know that recycling saves energy by reducing or eliminating the need to make materials from scratch? For example, aluminum can manufacturers can skip the energy-costly process of producing aluminum from ore by cleaning and melting recycled cans. Aluminum is classified as a non-ferrous metal.</p>\n",
    "<p>Singapore has an ambitious goal of becoming a zero-waste nation. The amount of waste disposed of in Singapore has increased seven-fold over the last 40 years. At this rate, Semakau Landfill, Singapore’s only landfill, will run out of space by 2035. Making matters worse, Singapore has limited land for building new incineration plants or landfills.</p>\n",
    "<p>The government would like to motivate citizens by sharing the total energy that the combined recycling efforts have saved every year. They have asked you to help them.</p>\n",
    "<p>You have been provided with three datasets. The data come from different teams, so the names of waste types may differ.</p>\n",
    "<div style=\"background-color: #efebe4; color: #05192d; text-align:left; vertical-align: middle; padding: 15px 25px 15px 25px; line-height: 1.6;\">\n",
    "    <div style=\"font-size:16px\"><b>datasets/wastestats.csv - Recycling statistics per waste type for the period 2003 to 2017</b>\n",
    "    </div>\n",
    "    <div>Source: <a href=\"https://www.nea.gov.sg/our-services/waste-management/waste-statistics-and-overall-recycling\">Singapore National Environment Agency</a></div>\n",
    "<ul>\n",
    "    <li><b>waste_type: </b>The type of waste recycled.</li>\n",
    "    <li><b>waste_disposed_of_tonne: </b>The amount of waste that could not be recycled (in metric tonnes).</li>\n",
    "    <li><b>total_waste_recycle_tonne: </b>The amount of waste that could be recycled (in metric tonnes).</li>\n",
    "    <li><b>total_waste_generated: </b>The total amount of waste collected before recycling (in metric tonnes).</li>\n",
    "    <li><b>recycling_rate: </b>The amount of waste recycled per tonne of waste generated.</li>\n",
    "    <li><b>year: </b>The recycling year.</li>\n",
    "</ul>\n",
    "    </div>\n",
    "<div style=\"background-color: #efebe4; color: #05192d; text-align:left; vertical-align: middle; padding: 15px 25px 15px 25px; line-height: 1.6; margin-top: 17px;\">\n",
    "    <div style=\"font-size:16px\"><b>datasets/2018_2019_waste.csv - Recycling statistics per waste type for the period 2018 to 2019</b>\n",
    "    </div>\n",
    "    <div> Source: <a href=\"https://www.nea.gov.sg/our-services/waste-management/waste-statistics-and-overall-recycling\">Singapore National Environment Agency</a></div>\n",
    "<ul>\n",
    "    <li><b>Waste Type: </b>The type of waste recycled.</li>\n",
    "    <li><b>Total Generated: </b>The total amount of waste collected before recycling (in thousands of metric tonnes).</li> \n",
    "    <li><b>Total Recycled: </b>The amount of waste that could be recycled. (in thousands of metric tonnes).</li>\n",
    "    <li><b>Year: </b>The recycling year.</li>\n",
    "</ul>\n",
    "    </div>\n",
    "<div style=\"background-color: #efebe4; color: #05192d; text-align:left; vertical-align: middle; padding: 15px 25px 15px 25px; line-height: 1.6; margin-top: 17px;\">\n",
    "    <div style=\"font-size:16px\"><b>datasets/energy_saved.csv -  Estimations of the amount of energy saved per waste type in kWh</b>\n",
    "    </div>\n",
    "<ul>\n",
    "    <li><b>material: </b>The type of waste recycled.</li>\n",
    "    <li><b>energy_saved: </b>An estimate of the energy saved (in kiloWatt hour) by recycling a metric tonne of waste.</li> \n",
    "    <li><b>crude_oil_saved: </b>An estimate of the number of barrels of oil saved by recycling a metric tonne of waste.</li>\n",
    "</ul>\n",
    "\n",
    "</div>\n",
    "<pre><code>\n",
    "</code></pre>"
   ]
  },
  {
   "cell_type": "code",
   "execution_count": 25,
   "metadata": {
    "dc": {
     "key": "4"
    },
    "tags": [
     "sample_code"
    ]
   },
   "outputs": [
    {
     "name": "stdout",
     "output_type": "stream",
     "text": [
      "Collecting fuzzywuzzy\n",
      "  Downloading https://files.pythonhosted.org/packages/43/ff/74f23998ad2f93b945c0309f825be92e04e0348e062026998b5eefef4c33/fuzzywuzzy-0.18.0-py2.py3-none-any.whl\n",
      "Installing collected packages: fuzzywuzzy\n",
      "\u001b[31mCould not install packages due to an EnvironmentError: [Errno 13] Permission denied: '/usr/local/lib/python3.6/dist-packages/fuzzywuzzy'\n",
      "Consider using the `--user` option or check the permissions.\n",
      "\u001b[0m\n",
      "\u001b[33mYou are using pip version 18.1, however version 21.1.3 is available.\n",
      "You should consider upgrading via the 'pip install --upgrade pip' command.\u001b[0m\n",
      "Collecting python-Levenshtein\n",
      "\u001b[?25l  Downloading https://files.pythonhosted.org/packages/2a/dc/97f2b63ef0fa1fd78dcb7195aca577804f6b2b51e712516cc0e902a9a201/python-Levenshtein-0.12.2.tar.gz (50kB)\n",
      "\u001b[K    100% |████████████████████████████████| 51kB 4.2MB/s ta 0:00:011\n",
      "\u001b[?25hRequirement already satisfied: setuptools in /var/lib/python/site-packages/python3.6 (from python-Levenshtein) (39.0.1)\n",
      "Building wheels for collected packages: python-Levenshtein\n",
      "  Running setup.py bdist_wheel for python-Levenshtein ... \u001b[?25ldone\n",
      "\u001b[?25h  Stored in directory: /home/repl/.cache/pip/wheels/b3/26/73/4b48503bac73f01cf18e52cd250947049a7f339e940c5df8fc\n",
      "Successfully built python-Levenshtein\n",
      "Installing collected packages: python-Levenshtein\n",
      "\u001b[31mCould not install packages due to an EnvironmentError: [Errno 13] Permission denied: '/usr/local/lib/python3.6/dist-packages/python_Levenshtein-0.12.2.dist-info'\n",
      "Consider using the `--user` option or check the permissions.\n",
      "\u001b[0m\n",
      "\u001b[33mYou are using pip version 18.1, however version 21.1.3 is available.\n",
      "You should consider upgrading via the 'pip install --upgrade pip' command.\u001b[0m\n"
     ]
    },
    {
     "ename": "ModuleNotFoundError",
     "evalue": "No module named 'fuzzywuzzy'",
     "output_type": "error",
     "traceback": [
      "---------------------------------------------------------------------------",
      "ModuleNotFoundError                       Traceback (most recent call last)",
      "<ipython-input-25-7b707f109645> in <module>\n      2 get_ipython().system('pip install fuzzywuzzy')\n      3 get_ipython().system('pip install python-Levenshtein')\n----> 4 from fuzzywuzzy import fuzz, process\n      5 import os\n      6 from pathlib import Path\n",
      "ModuleNotFoundError: No module named 'fuzzywuzzy'"
     ]
    }
   ],
   "source": [
    "#Import Necessary Libraries\n",
    "!pip install fuzzywuzzy\n",
    "!pip install python-Levenshtein\n",
    "from fuzzywuzzy import fuzz, process\n",
    "import os\n",
    "from pathlib import Path\n",
    "import re\n",
    "import pandas as pd\n",
    "import numpy as np\n",
    "from itertools import combinations\n"
   ]
  },
  {
   "cell_type": "code",
   "execution_count": 4,
   "metadata": {
    "dc": {
     "key": "4"
    }
   },
   "outputs": [
    {
     "data": {
      "text/plain": [
       "[<DirEntry '.profile'>,\n",
       " <DirEntry '.cache'>,\n",
       " <DirEntry '.bashrc'>,\n",
       " <DirEntry '.bash_logout'>,\n",
       " <DirEntry '.ipython'>,\n",
       " <DirEntry '.jupyter'>,\n",
       " <DirEntry '.ipynb_checkpoints'>,\n",
       " <DirEntry '.local'>,\n",
       " <DirEntry 'datasets'>,\n",
       " <DirEntry '.startup.py'>]"
      ]
     },
     "execution_count": 4,
     "metadata": {},
     "output_type": "execute_result"
    }
   ],
   "source": [
    "#Find data\n",
    "find_data = [*os.scandir()]\n",
    "find_data\n"
   ]
  },
  {
   "cell_type": "code",
   "execution_count": 5,
   "metadata": {
    "dc": {
     "key": "4"
    }
   },
   "outputs": [
    {
     "name": "stdout",
     "output_type": "stream",
     "text": [
      "[<DirEntry 'wastestats.csv'>, <DirEntry 'energy_saved.csv'>, <DirEntry '2018_2019_waste.csv'>]\n",
      "<class 'list'>\n"
     ]
    }
   ],
   "source": [
    "datas = [*os.scandir('datasets')]\n",
    "print(datas)\n",
    "print(type(datas))"
   ]
  },
  {
   "cell_type": "code",
   "execution_count": 6,
   "metadata": {
    "collapsed": true,
    "dc": {
     "key": "4"
    }
   },
   "outputs": [],
   "source": [
    "#Import Data\n",
    "waste_stats_older = pd.read_csv('datasets/wastestats.csv')\n",
    "waste_stats_newer = pd.read_csv('datasets/2018_2019_waste.csv')\n",
    "energy_stats = pd.read_csv('datasets/energy_saved.csv')\n",
    "tuple_df = (waste_stats_older, waste_stats_newer, energy_stats)"
   ]
  },
  {
   "cell_type": "code",
   "execution_count": 7,
   "metadata": {
    "dc": {
     "key": "4"
    },
    "scrolled": true
   },
   "outputs": [
    {
     "name": "stdout",
     "output_type": "stream",
     "text": [
      "            waste_type  waste_disposed_of_tonne  total_waste_recycled_tonne  \\\n",
      "0                 Food                   679900                    111100.0   \n",
      "1      Paper/Cardboard                   576000                    607100.0   \n",
      "2             Plastics                   762700                     59500.0   \n",
      "3                  C&D                     9700                   1585700.0   \n",
      "4  Horticultural waste                   111500                    209000.0   \n",
      "\n",
      "   total_waste_generated_tonne  recycling_rate  year  \n",
      "0                       791000            0.14  2016  \n",
      "1                      1183100            0.51  2016  \n",
      "2                       822200            0.07  2016  \n",
      "3                      1595400            0.99  2016  \n",
      "4                       320500            0.65  2016  \n",
      "(225, 6)\n",
      "[]\n",
      "Index(['waste_type', 'waste_disposed_of_tonne', 'total_waste_recycled_tonne',\n",
      "       'total_waste_generated_tonne', 'recycling_rate', 'year'],\n",
      "      dtype='object')\n",
      "                 Waste Type  Total Generated ('000 tonnes)  \\\n",
      "0  Construction& Demolition                           1440   \n",
      "1             Ferrous Metal                           1278   \n",
      "2           Paper/Cardboard                           1011   \n",
      "3                  Plastics                            930   \n",
      "4                      Food                           7440   \n",
      "\n",
      "   Total Recycled ('000 tonnes)  Year  \n",
      "0                          1434  2019  \n",
      "1                          1270  2019  \n",
      "2                           449  2019  \n",
      "3                            37  2019  \n",
      "4                           136  2019  \n",
      "(30, 4)\n",
      "[]\n",
      "Index(['Waste Type', 'Total Generated ('000 tonnes)',\n",
      "       'Total Recycled ('000 tonnes)', 'Year'],\n",
      "      dtype='object')\n",
      "  The table gives the amount of energy saved in kilowatt hour (kWh) and the amount of crude oil (barrels) by recycling 1 metric tonne (1000 kilogram)  per waste type  \\\n",
      "0    1 barrel oil is approximately 159 litres of oil                                                                                                                    \n",
      "1                                                NaN                                                                                                                    \n",
      "2                                           material                                                                                                                    \n",
      "3                                       energy_saved                                                                                                                    \n",
      "4                                    crude_oil saved                                                                                                                    \n",
      "\n",
      "   Unnamed: 1 Unnamed: 2     Unnamed: 3         Unnamed: 4   Unnamed: 5  \n",
      "0         NaN        NaN            NaN                NaN          NaN  \n",
      "1         NaN        NaN            NaN                NaN          NaN  \n",
      "2     Plastic      Glass  Ferrous Metal  Non-Ferrous Metal        Paper  \n",
      "3    5774 Kwh     42 Kwh        642 Kwh          14000 Kwh     4000 kWh  \n",
      "4  16 barrels        NaN    1.8 barrels         40 barrels  1.7 barrels  \n",
      "(5, 6)\n",
      "['The table gives the amount of energy saved in kilowatt hour (kWh) and the amount of crude oil (barrels) by recycling 1 metric tonne (1000 kilogram)  per waste type', 'Unnamed: 1', 'Unnamed: 2', 'Unnamed: 3', 'Unnamed: 4', 'Unnamed: 5']\n",
      "Index(['The table gives the amount of energy saved in kilowatt hour (kWh) and the amount of crude oil (barrels) by recycling 1 metric tonne (1000 kilogram)  per waste type',\n",
      "       'Unnamed: 1', 'Unnamed: 2', 'Unnamed: 3', 'Unnamed: 4', 'Unnamed: 5'],\n",
      "      dtype='object')\n"
     ]
    }
   ],
   "source": [
    "for df in tuple_df:\n",
    "    print(df.head())\n",
    "    print(df.shape)\n",
    "    print(df.columns[df.isna().any()].tolist())\n",
    "    print(df.columns)\n",
    "    "
   ]
  },
  {
   "cell_type": "code",
   "execution_count": 16,
   "metadata": {
    "dc": {
     "key": "4"
    }
   },
   "outputs": [
    {
     "name": "stdout",
     "output_type": "stream",
     "text": [
      "['Food' 'Paper/Cardboard' 'Plastics' 'C&D' 'Horticultural waste' 'Wood'\n",
      " 'Ferrous metal' 'Non-ferrous metal' 'Used slag' 'Ash & Sludge' 'Glass'\n",
      " 'Textile/Leather' 'Scrap tyres' 'Others (stones, ceramics & rubber etc.)'\n",
      " 'Total' 'Others (stones, ceramics & rubber etc)' 'Food waste'\n",
      " 'Construction Debris' 'Wood/Timber' 'Horticultural Waste' 'Ferrous Metal'\n",
      " 'Non-ferrous Metals' 'Used Slag' 'Sludge' 'Scrap Tyres' 'Ferrous Metals'\n",
      " 'Others' 'Construction debris' 'Non-ferrous metals' 'Ash and sludge'\n",
      " 'Plastic' 'Others (stones, ceramic, rubber, etc.)']\n",
      "32\n",
      "['Construction& Demolition' 'Ferrous Metal' 'Paper/Cardboard' 'Plastics'\n",
      " 'Food' 'Wood' 'Horticultural' 'Ash & Sludge' 'Textile/Leather'\n",
      " 'Used Slag' 'Non-Ferrous Metal' 'Glass' 'Scrap Tyres'\n",
      " 'Others (stones, ceramic, rubber, ect)' 'Overall']\n",
      "15\n"
     ]
    },
    {
     "data": {
      "text/html": [
       "<div>\n",
       "<style scoped>\n",
       "    .dataframe tbody tr th:only-of-type {\n",
       "        vertical-align: middle;\n",
       "    }\n",
       "\n",
       "    .dataframe tbody tr th {\n",
       "        vertical-align: top;\n",
       "    }\n",
       "\n",
       "    .dataframe thead th {\n",
       "        text-align: right;\n",
       "    }\n",
       "</style>\n",
       "<table border=\"1\" class=\"dataframe\">\n",
       "  <thead>\n",
       "    <tr style=\"text-align: right;\">\n",
       "      <th></th>\n",
       "      <th>Waste Type</th>\n",
       "      <th>Waste Disposed of (tonnes)</th>\n",
       "      <th>Total Recycled ('000 tonnes)</th>\n",
       "      <th>Total Generated ('000 tonnes)</th>\n",
       "      <th>Recycling Rate</th>\n",
       "      <th>Year</th>\n",
       "    </tr>\n",
       "  </thead>\n",
       "  <tbody>\n",
       "    <tr>\n",
       "      <th>0</th>\n",
       "      <td>Food</td>\n",
       "      <td>679900</td>\n",
       "      <td>111100.0</td>\n",
       "      <td>791000</td>\n",
       "      <td>0.14</td>\n",
       "      <td>2016</td>\n",
       "    </tr>\n",
       "    <tr>\n",
       "      <th>1</th>\n",
       "      <td>Paper/Cardboard</td>\n",
       "      <td>576000</td>\n",
       "      <td>607100.0</td>\n",
       "      <td>1183100</td>\n",
       "      <td>0.51</td>\n",
       "      <td>2016</td>\n",
       "    </tr>\n",
       "    <tr>\n",
       "      <th>2</th>\n",
       "      <td>Plastics</td>\n",
       "      <td>762700</td>\n",
       "      <td>59500.0</td>\n",
       "      <td>822200</td>\n",
       "      <td>0.07</td>\n",
       "      <td>2016</td>\n",
       "    </tr>\n",
       "    <tr>\n",
       "      <th>3</th>\n",
       "      <td>C&amp;D</td>\n",
       "      <td>9700</td>\n",
       "      <td>1585700.0</td>\n",
       "      <td>1595400</td>\n",
       "      <td>0.99</td>\n",
       "      <td>2016</td>\n",
       "    </tr>\n",
       "    <tr>\n",
       "      <th>4</th>\n",
       "      <td>Horticultural waste</td>\n",
       "      <td>111500</td>\n",
       "      <td>209000.0</td>\n",
       "      <td>320500</td>\n",
       "      <td>0.65</td>\n",
       "      <td>2016</td>\n",
       "    </tr>\n",
       "  </tbody>\n",
       "</table>\n",
       "</div>"
      ],
      "text/plain": [
       "            Waste Type  Waste Disposed of (tonnes)  \\\n",
       "0                 Food                      679900   \n",
       "1      Paper/Cardboard                      576000   \n",
       "2             Plastics                      762700   \n",
       "3                  C&D                        9700   \n",
       "4  Horticultural waste                      111500   \n",
       "\n",
       "   Total Recycled ('000 tonnes)  Total Generated ('000 tonnes)  \\\n",
       "0                      111100.0                         791000   \n",
       "1                      607100.0                        1183100   \n",
       "2                       59500.0                         822200   \n",
       "3                     1585700.0                        1595400   \n",
       "4                      209000.0                         320500   \n",
       "\n",
       "   Recycling Rate  Year  \n",
       "0            0.14  2016  \n",
       "1            0.51  2016  \n",
       "2            0.07  2016  \n",
       "3            0.99  2016  \n",
       "4            0.65  2016  "
      ]
     },
     "execution_count": 16,
     "metadata": {},
     "output_type": "execute_result"
    }
   ],
   "source": [
    "stats_dict = {'waste_type':'Waste Type',\n",
    "              'waste_disposed_of_tonne':'Waste Disposed of (tonnes)',\n",
    "              'recycling_rate': 'Recycling Rate',\n",
    "             'total_waste_generated_tonne':'Total Generated (\\'000 tonnes)',\n",
    "             'total_waste_recycled_tonne':'Total Recycled (\\'000 tonnes)',\n",
    "             'year':'Year'}\n",
    "waste_stats_older = waste_stats_older.rename(columns = stats_dict)\n",
    "print(waste_stats_older['Waste Type'].unique())\n",
    "print(len(waste_stats_older['Waste Type'].unique()))\n",
    "print(waste_stats_newer['Waste Type'].unique())\n",
    "print(len(waste_stats_newer['Waste Type'].unique()))\n",
    "waste_stats_older.head()"
   ]
  },
  {
   "cell_type": "code",
   "execution_count": 21,
   "metadata": {
    "dc": {
     "key": "4"
    }
   },
   "outputs": [
    {
     "name": "stdout",
     "output_type": "stream",
     "text": [
      "{'Overall', 'Others (stones, ceramic, rubber, ect)', 'Horticultural', 'Non-Ferrous Metal', 'Construction& Demolition'}\n"
     ]
    },
    {
     "ename": "NameError",
     "evalue": "name 'fuzz' is not defined",
     "output_type": "error",
     "traceback": [
      "---------------------------------------------------------------------------",
      "NameError                                 Traceback (most recent call last)",
      "<ipython-input-21-ceae7333127a> in <module>\n      2 abc = set(waste_stats_older['Waste Type'].unique())\n      3 print(xyz.difference(abc))\n----> 4 fuzz.WRatio(xyz, abc)\n",
      "NameError: name 'fuzz' is not defined"
     ]
    }
   ],
   "source": [
    "xyz = set(waste_stats_newer['Waste Type'].unique())\n",
    "abc = set(waste_stats_older['Waste Type'].unique())\n",
    "print(xyz.difference(abc))\n",
    "fuzz.WRatio(xyz, abc)"
   ]
  },
  {
   "cell_type": "code",
   "execution_count": null,
   "metadata": {
    "collapsed": true,
    "dc": {
     "key": "4"
    }
   },
   "outputs": [],
   "source": [
    "for w_type in waste_stats_newer['Waste Type']:\n",
    "    matches = process.extract(state, waste_stats_older['Waste Type'], limit = waste_stats_older.shape[0] )"
   ]
  },
  {
   "cell_type": "code",
   "execution_count": 24,
   "metadata": {
    "dc": {
     "key": "4"
    }
   },
   "outputs": [
    {
     "ename": "TypeError",
     "evalue": "'tuple' object is not callable",
     "output_type": "error",
     "traceback": [
      "---------------------------------------------------------------------------",
      "TypeError                                 Traceback (most recent call last)",
      "<ipython-input-24-7dceb9b55ea8> in <module>\n----> 1 tuple_df(1)\n",
      "TypeError: 'tuple' object is not callable"
     ]
    }
   ],
   "source": [
    "for row in df.itertuples(name='Animal'):\n",
    "    print(row)\n",
    "\n",
    "Animal(Index='dog', num_legs=4, num_wings=0)\n",
    "Animal(Index='hawk', num_legs=2, num_wings=2)"
   ]
  },
  {
   "cell_type": "code",
   "execution_count": 18,
   "metadata": {
    "dc": {
     "key": "4"
    },
    "scrolled": true
   },
   "outputs": [
    {
     "data": {
      "text/plain": [
       "225"
      ]
     },
     "execution_count": 18,
     "metadata": {},
     "output_type": "execute_result"
    }
   ],
   "source": []
  },
  {
   "cell_type": "code",
   "execution_count": null,
   "metadata": {
    "collapsed": true,
    "dc": {
     "key": "4"
    },
    "hide": true,
    "tags": [
     "tests"
    ]
   },
   "outputs": [],
   "source": [
    "%%nose\n",
    "\n",
    "import pandas as pd\n",
    "import re\n",
    "import numpy as np\n",
    "\n",
    "convert_index = lambda x: [re.match('(\\d{4})', date).group(0) for date in x.index.values.astype(str)]\n",
    "\n",
    "test_solution = pd.DataFrame({'year': [2015, 2016, 2017, 2018, 2019],\\\n",
    "                             'total_energy_saved': [3.435929e+09, 2554433400, 2.470596e+09, 2.698130e+09,\n",
    "       2.765440e+09]}).set_index('year')\n",
    "\n",
    "def test_project():\n",
    "    \n",
    "    # Check whether the answer has been saved and is a DataFrame\n",
    "    assert 'annual_energy_savings' in globals() and type(annual_energy_savings) == pd.core.frame.DataFrame, \\\n",
    "    \"Have you assigned your answer to a DataFrame named `annual_energy_savings`?\"\n",
    "    \n",
    "    # Check whether they have the right column in their DataFrame\n",
    "    assert annual_energy_savings.columns.isin(['total_energy_saved']).any(), \\\n",
    "    \"Your DataFrame is missing the required column!\"\n",
    "    \n",
    "    # Check whether they have included the correct index\n",
    "    assert annual_energy_savings.index.name == 'year', \\\n",
    "    \"Your DataFrame is missing the required index!\"\n",
    "    \n",
    "    # Check whether the values (converted to an integer) contain in the only column are correct\n",
    "    # and check whether the index is identical\n",
    "    assert (test_solution.total_energy_saved.astype('int64').values == \\\n",
    "    annual_energy_savings.total_energy_saved.astype('int64').values).all()\\\n",
    "    and convert_index(test_solution) == convert_index(annual_energy_savings), \\\n",
    "    \"Your submitted DataFrame does not contain the correct values!\""
   ]
  }
 ],
 "metadata": {
  "kernelspec": {
   "display_name": "Python 3",
   "language": "python",
   "name": "python3"
  },
  "language_info": {
   "codemirror_mode": {
    "name": "ipython",
    "version": 3
   },
   "file_extension": ".py",
   "mimetype": "text/x-python",
   "name": "python",
   "nbconvert_exporter": "python",
   "pygments_lexer": "ipython3",
   "version": "3.8.8"
  }
 },
 "nbformat": 4,
 "nbformat_minor": 2
}
